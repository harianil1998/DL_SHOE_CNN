{
 "cells": [
  {
   "cell_type": "code",
   "execution_count": 1,
   "id": "c2b58ee2",
   "metadata": {},
   "outputs": [],
   "source": [
    "import tensorflow as tf\n",
    "from tensorflow import keras\n",
    "import numpy as np\n",
    "import matplotlib.pyplot as plt"
   ]
  },
  {
   "cell_type": "code",
   "execution_count": null,
   "id": "748d7ac8",
   "metadata": {},
   "outputs": [],
   "source": [
    "# 1. Load Dataset\n",
    "fashion_mnist = keras.datasets.fashion_mnist\n",
    "(train_images, train_labels), (test_images, test_labels) = fashion_mnist.load_data()"
   ]
  },
  {
   "cell_type": "code",
   "execution_count": 3,
   "id": "dddd62dd",
   "metadata": {},
   "outputs": [],
   "source": [
    "# 2. Preprocess Data\n",
    "train_images = train_images / 255.0\n",
    "test_images = test_images / 255.0"
   ]
  },
  {
   "cell_type": "code",
   "execution_count": 4,
   "id": "61b9eda6",
   "metadata": {},
   "outputs": [
    {
     "name": "stderr",
     "output_type": "stream",
     "text": [
      "c:\\Users\\hari_\\AppData\\Local\\Programs\\Python\\Python313\\Lib\\site-packages\\keras\\src\\layers\\convolutional\\base_conv.py:113: UserWarning: Do not pass an `input_shape`/`input_dim` argument to a layer. When using Sequential models, prefer using an `Input(shape)` object as the first layer in the model instead.\n",
      "  super().__init__(activity_regularizer=activity_regularizer, **kwargs)\n"
     ]
    },
    {
     "name": "stdout",
     "output_type": "stream",
     "text": [
      "Epoch 1/10\n",
      "\u001b[1m1875/1875\u001b[0m \u001b[32m━━━━━━━━━━━━━━━━━━━━\u001b[0m\u001b[37m\u001b[0m \u001b[1m8s\u001b[0m 4ms/step - accuracy: 0.8404 - loss: 0.4450\n",
      "Epoch 2/10\n",
      "\u001b[1m1875/1875\u001b[0m \u001b[32m━━━━━━━━━━━━━━━━━━━━\u001b[0m\u001b[37m\u001b[0m \u001b[1m7s\u001b[0m 4ms/step - accuracy: 0.8904 - loss: 0.3001\n",
      "Epoch 3/10\n",
      "\u001b[1m1875/1875\u001b[0m \u001b[32m━━━━━━━━━━━━━━━━━━━━\u001b[0m\u001b[37m\u001b[0m \u001b[1m8s\u001b[0m 4ms/step - accuracy: 0.9062 - loss: 0.2533\n",
      "Epoch 4/10\n",
      "\u001b[1m1875/1875\u001b[0m \u001b[32m━━━━━━━━━━━━━━━━━━━━\u001b[0m\u001b[37m\u001b[0m \u001b[1m11s\u001b[0m 6ms/step - accuracy: 0.9197 - loss: 0.2207\n",
      "Epoch 5/10\n",
      "\u001b[1m1875/1875\u001b[0m \u001b[32m━━━━━━━━━━━━━━━━━━━━\u001b[0m\u001b[37m\u001b[0m \u001b[1m22s\u001b[0m 12ms/step - accuracy: 0.9272 - loss: 0.1961\n",
      "Epoch 6/10\n",
      "\u001b[1m1875/1875\u001b[0m \u001b[32m━━━━━━━━━━━━━━━━━━━━\u001b[0m\u001b[37m\u001b[0m \u001b[1m19s\u001b[0m 10ms/step - accuracy: 0.9341 - loss: 0.1736\n",
      "Epoch 7/10\n",
      "\u001b[1m1875/1875\u001b[0m \u001b[32m━━━━━━━━━━━━━━━━━━━━\u001b[0m\u001b[37m\u001b[0m \u001b[1m24s\u001b[0m 12ms/step - accuracy: 0.9427 - loss: 0.1505\n",
      "Epoch 8/10\n",
      "\u001b[1m1875/1875\u001b[0m \u001b[32m━━━━━━━━━━━━━━━━━━━━\u001b[0m\u001b[37m\u001b[0m \u001b[1m32s\u001b[0m 7ms/step - accuracy: 0.9490 - loss: 0.1350\n",
      "Epoch 9/10\n",
      "\u001b[1m1875/1875\u001b[0m \u001b[32m━━━━━━━━━━━━━━━━━━━━\u001b[0m\u001b[37m\u001b[0m \u001b[1m22s\u001b[0m 11ms/step - accuracy: 0.9556 - loss: 0.1185\n",
      "Epoch 10/10\n",
      "\u001b[1m1875/1875\u001b[0m \u001b[32m━━━━━━━━━━━━━━━━━━━━\u001b[0m\u001b[37m\u001b[0m \u001b[1m42s\u001b[0m 12ms/step - accuracy: 0.9609 - loss: 0.1038\n",
      "313/313 - 2s - 8ms/step - accuracy: 0.9113 - loss: 0.3110\n",
      "\n",
      "Test accuracy: 0.911300003528595\n",
      "\u001b[1m313/313\u001b[0m \u001b[32m━━━━━━━━━━━━━━━━━━━━\u001b[0m\u001b[37m\u001b[0m \u001b[1m2s\u001b[0m 6ms/step\n"
     ]
    }
   ],
   "source": [
    "# Reshape for CNN input if needed (e.g., adding channel dimension for grayscale)\n",
    "train_images = train_images[..., np.newaxis]\n",
    "test_images = test_images[..., np.newaxis]\n",
    "\n",
    "# 3. Build the CNN Model\n",
    "model = keras.Sequential([\n",
    "    keras.layers.Conv2D(32, (3, 3), activation='relu', input_shape=(28, 28, 1)),\n",
    "    keras.layers.MaxPooling2D((2, 2)),\n",
    "    keras.layers.Conv2D(64, (3, 3), activation='relu'),\n",
    "    keras.layers.MaxPooling2D((2, 2)),\n",
    "    keras.layers.Flatten(),\n",
    "    keras.layers.Dense(128, activation='relu'),\n",
    "    keras.layers.Dense(10, activation='softmax') # 10 classes for Fashion MNIST\n",
    "])\n",
    "\n",
    "# 4. Compile the Model\n",
    "model.compile(optimizer='adam',\n",
    "              loss='sparse_categorical_crossentropy',\n",
    "              metrics=['accuracy'])\n",
    "\n",
    "# 5. Train the Model\n",
    "model.fit(train_images, train_labels, epochs=10)\n",
    "\n",
    "# 6. Evaluate the Model\n",
    "test_loss, test_acc = model.evaluate(test_images, test_labels, verbose=2)\n",
    "print(f'\\nTest accuracy: {test_acc}')\n",
    "\n",
    "# 7. Make Predictions (Optional)\n",
    "predictions = model.predict(test_images)\n",
    "# You can then interpret predictions for specific images"
   ]
  },
  {
   "cell_type": "markdown",
   "id": "38ee2025",
   "metadata": {},
   "source": [
    "PROGRAM 2 : Building a simple gate that flags whether a product image is footwear or not. This is useful to route images to the right enrichment flow, power search refiners, and trigger footwear specific checks like size charts. Reusing Fashion MNIST as a stand in and map three classes to footwear sandal, sneaker, ankle boot and the rest to not footwear. Then train a compact CNN for a binary decision, track AUC and show a quick Grad CAM for interpretability."
   ]
  },
  {
   "cell_type": "code",
   "execution_count": null,
   "id": "8da66d30",
   "metadata": {},
   "outputs": [
    {
     "data": {
      "text/html": [
       "<pre style=\"white-space:pre;overflow-x:auto;line-height:normal;font-family:Menlo,'DejaVu Sans Mono',consolas,'Courier New',monospace\"><span style=\"font-weight: bold\">Model: \"functional_2\"</span>\n",
       "</pre>\n"
      ],
      "text/plain": [
       "\u001b[1mModel: \"functional_2\"\u001b[0m\n"
      ]
     },
     "metadata": {},
     "output_type": "display_data"
    },
    {
     "data": {
      "text/html": [
       "<pre style=\"white-space:pre;overflow-x:auto;line-height:normal;font-family:Menlo,'DejaVu Sans Mono',consolas,'Courier New',monospace\">┏━━━━━━━━━━━━━━━━━━━━━━━━━━━━━━━━━┳━━━━━━━━━━━━━━━━━━━━━━━━┳━━━━━━━━━━━━━━━┓\n",
       "┃<span style=\"font-weight: bold\"> Layer (type)                    </span>┃<span style=\"font-weight: bold\"> Output Shape           </span>┃<span style=\"font-weight: bold\">       Param # </span>┃\n",
       "┡━━━━━━━━━━━━━━━━━━━━━━━━━━━━━━━━━╇━━━━━━━━━━━━━━━━━━━━━━━━╇━━━━━━━━━━━━━━━┩\n",
       "│ input_layer_1 (<span style=\"color: #0087ff; text-decoration-color: #0087ff\">InputLayer</span>)      │ (<span style=\"color: #00d7ff; text-decoration-color: #00d7ff\">None</span>, <span style=\"color: #00af00; text-decoration-color: #00af00\">28</span>, <span style=\"color: #00af00; text-decoration-color: #00af00\">28</span>, <span style=\"color: #00af00; text-decoration-color: #00af00\">1</span>)      │             <span style=\"color: #00af00; text-decoration-color: #00af00\">0</span> │\n",
       "├─────────────────────────────────┼────────────────────────┼───────────────┤\n",
       "│ augment (<span style=\"color: #0087ff; text-decoration-color: #0087ff\">Sequential</span>)            │ (<span style=\"color: #00d7ff; text-decoration-color: #00d7ff\">None</span>, <span style=\"color: #00af00; text-decoration-color: #00af00\">28</span>, <span style=\"color: #00af00; text-decoration-color: #00af00\">28</span>, <span style=\"color: #00af00; text-decoration-color: #00af00\">1</span>)      │             <span style=\"color: #00af00; text-decoration-color: #00af00\">0</span> │\n",
       "├─────────────────────────────────┼────────────────────────┼───────────────┤\n",
       "│ conv2d_2 (<span style=\"color: #0087ff; text-decoration-color: #0087ff\">Conv2D</span>)               │ (<span style=\"color: #00d7ff; text-decoration-color: #00d7ff\">None</span>, <span style=\"color: #00af00; text-decoration-color: #00af00\">28</span>, <span style=\"color: #00af00; text-decoration-color: #00af00\">28</span>, <span style=\"color: #00af00; text-decoration-color: #00af00\">32</span>)     │           <span style=\"color: #00af00; text-decoration-color: #00af00\">320</span> │\n",
       "├─────────────────────────────────┼────────────────────────┼───────────────┤\n",
       "│ max_pooling2d_2 (<span style=\"color: #0087ff; text-decoration-color: #0087ff\">MaxPooling2D</span>)  │ (<span style=\"color: #00d7ff; text-decoration-color: #00d7ff\">None</span>, <span style=\"color: #00af00; text-decoration-color: #00af00\">14</span>, <span style=\"color: #00af00; text-decoration-color: #00af00\">14</span>, <span style=\"color: #00af00; text-decoration-color: #00af00\">32</span>)     │             <span style=\"color: #00af00; text-decoration-color: #00af00\">0</span> │\n",
       "├─────────────────────────────────┼────────────────────────┼───────────────┤\n",
       "│ conv2d_3 (<span style=\"color: #0087ff; text-decoration-color: #0087ff\">Conv2D</span>)               │ (<span style=\"color: #00d7ff; text-decoration-color: #00d7ff\">None</span>, <span style=\"color: #00af00; text-decoration-color: #00af00\">14</span>, <span style=\"color: #00af00; text-decoration-color: #00af00\">14</span>, <span style=\"color: #00af00; text-decoration-color: #00af00\">64</span>)     │        <span style=\"color: #00af00; text-decoration-color: #00af00\">18,496</span> │\n",
       "├─────────────────────────────────┼────────────────────────┼───────────────┤\n",
       "│ max_pooling2d_3 (<span style=\"color: #0087ff; text-decoration-color: #0087ff\">MaxPooling2D</span>)  │ (<span style=\"color: #00d7ff; text-decoration-color: #00d7ff\">None</span>, <span style=\"color: #00af00; text-decoration-color: #00af00\">7</span>, <span style=\"color: #00af00; text-decoration-color: #00af00\">7</span>, <span style=\"color: #00af00; text-decoration-color: #00af00\">64</span>)       │             <span style=\"color: #00af00; text-decoration-color: #00af00\">0</span> │\n",
       "├─────────────────────────────────┼────────────────────────┼───────────────┤\n",
       "│ last_conv (<span style=\"color: #0087ff; text-decoration-color: #0087ff\">Conv2D</span>)              │ (<span style=\"color: #00d7ff; text-decoration-color: #00d7ff\">None</span>, <span style=\"color: #00af00; text-decoration-color: #00af00\">7</span>, <span style=\"color: #00af00; text-decoration-color: #00af00\">7</span>, <span style=\"color: #00af00; text-decoration-color: #00af00\">128</span>)      │        <span style=\"color: #00af00; text-decoration-color: #00af00\">73,856</span> │\n",
       "├─────────────────────────────────┼────────────────────────┼───────────────┤\n",
       "│ global_average_pooling2d        │ (<span style=\"color: #00d7ff; text-decoration-color: #00d7ff\">None</span>, <span style=\"color: #00af00; text-decoration-color: #00af00\">128</span>)            │             <span style=\"color: #00af00; text-decoration-color: #00af00\">0</span> │\n",
       "│ (<span style=\"color: #0087ff; text-decoration-color: #0087ff\">GlobalAveragePooling2D</span>)        │                        │               │\n",
       "├─────────────────────────────────┼────────────────────────┼───────────────┤\n",
       "│ dropout (<span style=\"color: #0087ff; text-decoration-color: #0087ff\">Dropout</span>)               │ (<span style=\"color: #00d7ff; text-decoration-color: #00d7ff\">None</span>, <span style=\"color: #00af00; text-decoration-color: #00af00\">128</span>)            │             <span style=\"color: #00af00; text-decoration-color: #00af00\">0</span> │\n",
       "├─────────────────────────────────┼────────────────────────┼───────────────┤\n",
       "│ dense_2 (<span style=\"color: #0087ff; text-decoration-color: #0087ff\">Dense</span>)                 │ (<span style=\"color: #00d7ff; text-decoration-color: #00d7ff\">None</span>, <span style=\"color: #00af00; text-decoration-color: #00af00\">128</span>)            │        <span style=\"color: #00af00; text-decoration-color: #00af00\">16,512</span> │\n",
       "├─────────────────────────────────┼────────────────────────┼───────────────┤\n",
       "│ dense_3 (<span style=\"color: #0087ff; text-decoration-color: #0087ff\">Dense</span>)                 │ (<span style=\"color: #00d7ff; text-decoration-color: #00d7ff\">None</span>, <span style=\"color: #00af00; text-decoration-color: #00af00\">1</span>)              │           <span style=\"color: #00af00; text-decoration-color: #00af00\">129</span> │\n",
       "└─────────────────────────────────┴────────────────────────┴───────────────┘\n",
       "</pre>\n"
      ],
      "text/plain": [
       "┏━━━━━━━━━━━━━━━━━━━━━━━━━━━━━━━━━┳━━━━━━━━━━━━━━━━━━━━━━━━┳━━━━━━━━━━━━━━━┓\n",
       "┃\u001b[1m \u001b[0m\u001b[1mLayer (type)                   \u001b[0m\u001b[1m \u001b[0m┃\u001b[1m \u001b[0m\u001b[1mOutput Shape          \u001b[0m\u001b[1m \u001b[0m┃\u001b[1m \u001b[0m\u001b[1m      Param #\u001b[0m\u001b[1m \u001b[0m┃\n",
       "┡━━━━━━━━━━━━━━━━━━━━━━━━━━━━━━━━━╇━━━━━━━━━━━━━━━━━━━━━━━━╇━━━━━━━━━━━━━━━┩\n",
       "│ input_layer_1 (\u001b[38;5;33mInputLayer\u001b[0m)      │ (\u001b[38;5;45mNone\u001b[0m, \u001b[38;5;34m28\u001b[0m, \u001b[38;5;34m28\u001b[0m, \u001b[38;5;34m1\u001b[0m)      │             \u001b[38;5;34m0\u001b[0m │\n",
       "├─────────────────────────────────┼────────────────────────┼───────────────┤\n",
       "│ augment (\u001b[38;5;33mSequential\u001b[0m)            │ (\u001b[38;5;45mNone\u001b[0m, \u001b[38;5;34m28\u001b[0m, \u001b[38;5;34m28\u001b[0m, \u001b[38;5;34m1\u001b[0m)      │             \u001b[38;5;34m0\u001b[0m │\n",
       "├─────────────────────────────────┼────────────────────────┼───────────────┤\n",
       "│ conv2d_2 (\u001b[38;5;33mConv2D\u001b[0m)               │ (\u001b[38;5;45mNone\u001b[0m, \u001b[38;5;34m28\u001b[0m, \u001b[38;5;34m28\u001b[0m, \u001b[38;5;34m32\u001b[0m)     │           \u001b[38;5;34m320\u001b[0m │\n",
       "├─────────────────────────────────┼────────────────────────┼───────────────┤\n",
       "│ max_pooling2d_2 (\u001b[38;5;33mMaxPooling2D\u001b[0m)  │ (\u001b[38;5;45mNone\u001b[0m, \u001b[38;5;34m14\u001b[0m, \u001b[38;5;34m14\u001b[0m, \u001b[38;5;34m32\u001b[0m)     │             \u001b[38;5;34m0\u001b[0m │\n",
       "├─────────────────────────────────┼────────────────────────┼───────────────┤\n",
       "│ conv2d_3 (\u001b[38;5;33mConv2D\u001b[0m)               │ (\u001b[38;5;45mNone\u001b[0m, \u001b[38;5;34m14\u001b[0m, \u001b[38;5;34m14\u001b[0m, \u001b[38;5;34m64\u001b[0m)     │        \u001b[38;5;34m18,496\u001b[0m │\n",
       "├─────────────────────────────────┼────────────────────────┼───────────────┤\n",
       "│ max_pooling2d_3 (\u001b[38;5;33mMaxPooling2D\u001b[0m)  │ (\u001b[38;5;45mNone\u001b[0m, \u001b[38;5;34m7\u001b[0m, \u001b[38;5;34m7\u001b[0m, \u001b[38;5;34m64\u001b[0m)       │             \u001b[38;5;34m0\u001b[0m │\n",
       "├─────────────────────────────────┼────────────────────────┼───────────────┤\n",
       "│ last_conv (\u001b[38;5;33mConv2D\u001b[0m)              │ (\u001b[38;5;45mNone\u001b[0m, \u001b[38;5;34m7\u001b[0m, \u001b[38;5;34m7\u001b[0m, \u001b[38;5;34m128\u001b[0m)      │        \u001b[38;5;34m73,856\u001b[0m │\n",
       "├─────────────────────────────────┼────────────────────────┼───────────────┤\n",
       "│ global_average_pooling2d        │ (\u001b[38;5;45mNone\u001b[0m, \u001b[38;5;34m128\u001b[0m)            │             \u001b[38;5;34m0\u001b[0m │\n",
       "│ (\u001b[38;5;33mGlobalAveragePooling2D\u001b[0m)        │                        │               │\n",
       "├─────────────────────────────────┼────────────────────────┼───────────────┤\n",
       "│ dropout (\u001b[38;5;33mDropout\u001b[0m)               │ (\u001b[38;5;45mNone\u001b[0m, \u001b[38;5;34m128\u001b[0m)            │             \u001b[38;5;34m0\u001b[0m │\n",
       "├─────────────────────────────────┼────────────────────────┼───────────────┤\n",
       "│ dense_2 (\u001b[38;5;33mDense\u001b[0m)                 │ (\u001b[38;5;45mNone\u001b[0m, \u001b[38;5;34m128\u001b[0m)            │        \u001b[38;5;34m16,512\u001b[0m │\n",
       "├─────────────────────────────────┼────────────────────────┼───────────────┤\n",
       "│ dense_3 (\u001b[38;5;33mDense\u001b[0m)                 │ (\u001b[38;5;45mNone\u001b[0m, \u001b[38;5;34m1\u001b[0m)              │           \u001b[38;5;34m129\u001b[0m │\n",
       "└─────────────────────────────────┴────────────────────────┴───────────────┘\n"
      ]
     },
     "metadata": {},
     "output_type": "display_data"
    },
    {
     "data": {
      "text/html": [
       "<pre style=\"white-space:pre;overflow-x:auto;line-height:normal;font-family:Menlo,'DejaVu Sans Mono',consolas,'Courier New',monospace\"><span style=\"font-weight: bold\"> Total params: </span><span style=\"color: #00af00; text-decoration-color: #00af00\">109,313</span> (427.00 KB)\n",
       "</pre>\n"
      ],
      "text/plain": [
       "\u001b[1m Total params: \u001b[0m\u001b[38;5;34m109,313\u001b[0m (427.00 KB)\n"
      ]
     },
     "metadata": {},
     "output_type": "display_data"
    },
    {
     "data": {
      "text/html": [
       "<pre style=\"white-space:pre;overflow-x:auto;line-height:normal;font-family:Menlo,'DejaVu Sans Mono',consolas,'Courier New',monospace\"><span style=\"font-weight: bold\"> Trainable params: </span><span style=\"color: #00af00; text-decoration-color: #00af00\">109,313</span> (427.00 KB)\n",
       "</pre>\n"
      ],
      "text/plain": [
       "\u001b[1m Trainable params: \u001b[0m\u001b[38;5;34m109,313\u001b[0m (427.00 KB)\n"
      ]
     },
     "metadata": {},
     "output_type": "display_data"
    },
    {
     "data": {
      "text/html": [
       "<pre style=\"white-space:pre;overflow-x:auto;line-height:normal;font-family:Menlo,'DejaVu Sans Mono',consolas,'Courier New',monospace\"><span style=\"font-weight: bold\"> Non-trainable params: </span><span style=\"color: #00af00; text-decoration-color: #00af00\">0</span> (0.00 B)\n",
       "</pre>\n"
      ],
      "text/plain": [
       "\u001b[1m Non-trainable params: \u001b[0m\u001b[38;5;34m0\u001b[0m (0.00 B)\n"
      ]
     },
     "metadata": {},
     "output_type": "display_data"
    },
    {
     "name": "stdout",
     "output_type": "stream",
     "text": [
      "Class weights: {0: np.float64(0.7147498375568551), 1: np.float64(1.6641452344931922)}\n",
      "Epoch 1/15\n",
      "860/860 - 12s - 14ms/step - accuracy: 0.9655 - auc: 0.9949 - loss: 0.0904 - precision: 0.9255 - recall: 0.9626 - val_accuracy: 0.9936 - val_auc: 0.9988 - val_loss: 0.0259 - val_precision: 0.9807 - val_recall: 0.9980\n",
      "Epoch 2/15\n",
      "860/860 - 9s - 10ms/step - accuracy: 0.9936 - auc: 0.9993 - loss: 0.0211 - precision: 0.9844 - recall: 0.9944 - val_accuracy: 0.9956 - val_auc: 0.9991 - val_loss: 0.0143 - val_precision: 0.9932 - val_recall: 0.9919\n",
      "Epoch 3/15\n",
      "860/860 - 12s - 14ms/step - accuracy: 0.9952 - auc: 0.9995 - loss: 0.0151 - precision: 0.9884 - recall: 0.9958 - val_accuracy: 0.9924 - val_auc: 0.9986 - val_loss: 0.0229 - val_precision: 0.9774 - val_recall: 0.9973\n",
      "Epoch 4/15\n",
      "860/860 - 18s - 21ms/step - accuracy: 0.9957 - auc: 0.9994 - loss: 0.0140 - precision: 0.9890 - recall: 0.9967 - val_accuracy: 0.9964 - val_auc: 0.9991 - val_loss: 0.0115 - val_precision: 0.9906 - val_recall: 0.9973\n",
      "Epoch 5/15\n",
      "860/860 - 16s - 19ms/step - accuracy: 0.9967 - auc: 0.9997 - loss: 0.0111 - precision: 0.9917 - recall: 0.9973 - val_accuracy: 0.9966 - val_auc: 0.9991 - val_loss: 0.0113 - val_precision: 0.9946 - val_recall: 0.9939\n",
      "Epoch 6/15\n",
      "860/860 - 16s - 19ms/step - accuracy: 0.9965 - auc: 0.9996 - loss: 0.0114 - precision: 0.9913 - recall: 0.9971 - val_accuracy: 0.9978 - val_auc: 0.9988 - val_loss: 0.0096 - val_precision: 0.9973 - val_recall: 0.9953\n",
      "Epoch 7/15\n",
      "860/860 - 16s - 19ms/step - accuracy: 0.9970 - auc: 0.9996 - loss: 0.0099 - precision: 0.9924 - recall: 0.9977 - val_accuracy: 0.9950 - val_auc: 0.9994 - val_loss: 0.0169 - val_precision: 0.9866 - val_recall: 0.9966\n",
      "Epoch 8/15\n",
      "860/860 - 16s - 18ms/step - accuracy: 0.9975 - auc: 0.9995 - loss: 0.0089 - precision: 0.9939 - recall: 0.9979 - val_accuracy: 0.9976 - val_auc: 0.9998 - val_loss: 0.0100 - val_precision: 0.9939 - val_recall: 0.9980\n",
      "Epoch 9/15\n",
      "860/860 - 16s - 19ms/step - accuracy: 0.9971 - auc: 0.9997 - loss: 0.0088 - precision: 0.9929 - recall: 0.9976 - val_accuracy: 0.9972 - val_auc: 0.9992 - val_loss: 0.0099 - val_precision: 0.9939 - val_recall: 0.9966\n",
      "Epoch 10/15\n",
      "860/860 - 17s - 19ms/step - accuracy: 0.9977 - auc: 0.9995 - loss: 0.0086 - precision: 0.9942 - recall: 0.9981 - val_accuracy: 0.9976 - val_auc: 0.9990 - val_loss: 0.0109 - val_precision: 0.9939 - val_recall: 0.9980\n",
      "Epoch 11/15\n",
      "860/860 - 15s - 18ms/step - accuracy: 0.9981 - auc: 0.9997 - loss: 0.0070 - precision: 0.9952 - recall: 0.9983 - val_accuracy: 0.9976 - val_auc: 0.9998 - val_loss: 0.0078 - val_precision: 0.9939 - val_recall: 0.9980\n",
      "Epoch 12/15\n",
      "860/860 - 16s - 18ms/step - accuracy: 0.9979 - auc: 0.9998 - loss: 0.0065 - precision: 0.9947 - recall: 0.9984 - val_accuracy: 0.9972 - val_auc: 0.9998 - val_loss: 0.0089 - val_precision: 0.9939 - val_recall: 0.9966\n",
      "Epoch 13/15\n",
      "860/860 - 16s - 19ms/step - accuracy: 0.9981 - auc: 0.9999 - loss: 0.0060 - precision: 0.9951 - recall: 0.9985 - val_accuracy: 0.9968 - val_auc: 0.9997 - val_loss: 0.0116 - val_precision: 0.9912 - val_recall: 0.9980\n",
      "Epoch 14/15\n",
      "860/860 - 28s - 32ms/step - accuracy: 0.9981 - auc: 0.9997 - loss: 0.0068 - precision: 0.9952 - recall: 0.9985 - val_accuracy: 0.9960 - val_auc: 0.9989 - val_loss: 0.0204 - val_precision: 0.9873 - val_recall: 0.9993\n",
      "Epoch 15/15\n",
      "860/860 - 34s - 39ms/step - accuracy: 0.9981 - auc: 0.9999 - loss: 0.0059 - precision: 0.9952 - recall: 0.9984 - val_accuracy: 0.9976 - val_auc: 0.9998 - val_loss: 0.0067 - val_precision: 0.9953 - val_recall: 0.9966\n",
      "157/157 - 2s - 11ms/step - accuracy: 0.9990 - auc: 0.9996 - loss: 0.0054 - precision: 0.9970 - recall: 0.9997\n",
      "\n",
      "Test results:\n",
      "loss: 0.0054\n",
      "compile_metrics: 0.9990\n",
      "\u001b[1m157/157\u001b[0m \u001b[32m━━━━━━━━━━━━━━━━━━━━\u001b[0m\u001b[37m\u001b[0m \u001b[1m2s\u001b[0m 11ms/step\n",
      "\n",
      "Confusion matrix:\n",
      "[[6991    9]\n",
      " [   1 2999]]\n",
      "Precision: 0.9970  Recall: 0.9997\n"
     ]
    },
    {
     "data": {
      "image/png": "[encoded data removed]",
      "text/plain": [
       "<Figure size 640x480 with 1 Axes>"
      ]
     },
     "metadata": {},
     "output_type": "display_data"
    },
    {
     "name": "stderr",
     "output_type": "stream",
     "text": [
      "c:\\Users\\hari_\\AppData\\Local\\Programs\\Python\\Python313\\Lib\\site-packages\\keras\\src\\models\\functional.py:241: UserWarning: The structure of `inputs` doesn't match the expected structure.\n",
      "Expected: [['keras_tensor_8']]\n",
      "Received: inputs=['Tensor(shape=(1, 28, 28, 1))']\n",
      "  warnings.warn(msg)\n"
     ]
    },
    {
     "ename": "ModuleNotFoundError",
     "evalue": "No module named 'cv2'",
     "output_type": "error",
     "traceback": [
      "\u001b[31m---------------------------------------------------------------------------\u001b[39m",
      "\u001b[31mModuleNotFoundError\u001b[39m                       Traceback (most recent call last)",
      "\u001b[36mCell\u001b[39m\u001b[36m \u001b[39m\u001b[32mIn[5]\u001b[39m\u001b[32m, line 161\u001b[39m\n\u001b[32m    159\u001b[39m sample = test_images[idx][np.newaxis, ...]\n\u001b[32m    160\u001b[39m hm = grad_cam(sample, model, conv_layer_name=\u001b[33m\"\u001b[39m\u001b[33mlast_conv\u001b[39m\u001b[33m\"\u001b[39m)\n\u001b[32m--> \u001b[39m\u001b[32m161\u001b[39m \u001b[43mshow_grad_cam\u001b[49m\u001b[43m(\u001b[49m\u001b[43mtest_images\u001b[49m\u001b[43m[\u001b[49m\u001b[43midx\u001b[49m\u001b[43m]\u001b[49m\u001b[43m,\u001b[49m\u001b[43m \u001b[49m\u001b[43mhm\u001b[49m\u001b[43m)\u001b[49m\n",
      "\u001b[36mCell\u001b[39m\u001b[36m \u001b[39m\u001b[32mIn[5]\u001b[39m\u001b[32m, line 145\u001b[39m, in \u001b[36mshow_grad_cam\u001b[39m\u001b[34m(original_img, heatmap, alpha)\u001b[39m\n\u001b[32m    144\u001b[39m \u001b[38;5;28;01mdef\u001b[39;00m\u001b[38;5;250m \u001b[39m\u001b[34mshow_grad_cam\u001b[39m(original_img, heatmap, alpha=\u001b[32m0.35\u001b[39m):\n\u001b[32m--> \u001b[39m\u001b[32m145\u001b[39m     \u001b[38;5;28;01mimport\u001b[39;00m\u001b[38;5;250m \u001b[39m\u001b[34;01mcv2\u001b[39;00m\n\u001b[32m    146\u001b[39m     img = np.uint8(\u001b[32m255\u001b[39m * np.squeeze(original_img))\n\u001b[32m    147\u001b[39m     heatmap = np.uint8(\u001b[32m255\u001b[39m * heatmap)\n",
      "\u001b[31mModuleNotFoundError\u001b[39m: No module named 'cv2'"
     ]
    }
   ],
   "source": [
    "import tensorflow as tf\n",
    "from tensorflow import keras\n",
    "import numpy as np\n",
    "import matplotlib.pyplot as plt\n",
    "\n",
    "# 1. Load dataset\n",
    "fashion_mnist = keras.datasets.fashion_mnist\n",
    "(train_images, train_labels), (test_images, test_labels) = fashion_mnist.load_data()\n",
    "\n",
    "# 2. Map to a binary label\n",
    "# Footwear classes in Fashion MNIST: 5 sandal, 7 sneaker, 9 ankle boot\n",
    "footwear_classes = {5, 7, 9}\n",
    "train_binary = np.array([1 if lbl in footwear_classes else 0 for lbl in train_labels], dtype=np.int32)\n",
    "test_binary  = np.array([1 if lbl in footwear_classes else 0 for lbl in test_labels],  dtype=np.int32)\n",
    "\n",
    "# 3. Preprocess images\n",
    "train_images = (train_images / 255.0)[..., np.newaxis]\n",
    "test_images  = (test_images  / 255.0)[..., np.newaxis]\n",
    "\n",
    "# 4. Build tf.data pipelines with a small validation split\n",
    "batch_size = 64\n",
    "\n",
    "# create a validation split from the tail of the training set\n",
    "val_count = 5000\n",
    "train_count = len(train_images) - val_count\n",
    "\n",
    "train_ds = tf.data.Dataset.from_tensor_slices((train_images[:train_count], train_binary[:train_count]))\n",
    "val_ds   = tf.data.Dataset.from_tensor_slices((train_images[train_count:],  train_binary[train_count:]))\n",
    "test_ds  = tf.data.Dataset.from_tensor_slices((test_images, test_binary))\n",
    "\n",
    "AUTOTUNE = tf.data.AUTOTUNE\n",
    "train_ds = train_ds.shuffle(10000).batch(batch_size).prefetch(AUTOTUNE)\n",
    "val_ds   = val_ds.batch(batch_size).prefetch(AUTOTUNE)\n",
    "test_ds  = test_ds.batch(batch_size).prefetch(AUTOTUNE)\n",
    "\n",
    "# 5. Data augmentation layer\n",
    "data_augmentation = keras.Sequential([\n",
    "    keras.layers.RandomFlip(\"horizontal\"),\n",
    "    keras.layers.RandomRotation(0.05),\n",
    "    keras.layers.RandomZoom(0.1),\n",
    "], name=\"augment\")\n",
    "\n",
    "# 6. Model\n",
    "inputs = keras.Input(shape=(28, 28, 1))\n",
    "x = data_augmentation(inputs)\n",
    "x = keras.layers.Conv2D(32, 3, activation=\"relu\", padding=\"same\")(x)\n",
    "x = keras.layers.MaxPooling2D()(x)\n",
    "x = keras.layers.Conv2D(64, 3, activation=\"relu\", padding=\"same\")(x)\n",
    "x = keras.layers.MaxPooling2D()(x)\n",
    "x = keras.layers.Conv2D(128, 3, activation=\"relu\", padding=\"same\", name=\"last_conv\")(x)\n",
    "x = keras.layers.GlobalAveragePooling2D()(x)\n",
    "x = keras.layers.Dropout(0.25)(x)\n",
    "x = keras.layers.Dense(128, activation=\"relu\")(x)\n",
    "outputs = keras.layers.Dense(1, activation=\"sigmoid\")(x)\n",
    "\n",
    "model = keras.Model(inputs, outputs)\n",
    "model.summary()\n",
    "\n",
    "# 7. Compile\n",
    "model.compile(\n",
    "    optimizer=keras.optimizers.Adam(),\n",
    "    loss=\"binary_crossentropy\",\n",
    "    metrics=[\n",
    "        \"accuracy\",\n",
    "        keras.metrics.AUC(name=\"auc\"),\n",
    "        keras.metrics.Precision(name=\"precision\"),\n",
    "        keras.metrics.Recall(name=\"recall\"),\n",
    "    ],\n",
    ")\n",
    "\n",
    "# 8. Class weights to offset any imbalance\n",
    "pos = np.sum(train_binary[:train_count] == 1)\n",
    "neg = np.sum(train_binary[:train_count] == 0)\n",
    "total = pos + neg\n",
    "class_weight = {\n",
    "    0: total / (2.0 * neg),\n",
    "    1: total / (2.0 * pos),\n",
    "}\n",
    "print(\"Class weights:\", class_weight)\n",
    "\n",
    "# 9. Train with early stopping\n",
    "callbacks = [\n",
    "    keras.callbacks.EarlyStopping(monitor=\"val_auc\", mode=\"max\", patience=3, restore_best_weights=True)\n",
    "]\n",
    "\n",
    "history = model.fit(\n",
    "    train_ds,\n",
    "    validation_data=val_ds,\n",
    "    epochs=15,\n",
    "    class_weight=class_weight,\n",
    "    callbacks=callbacks,\n",
    "    verbose=2\n",
    ")\n",
    "\n",
    "# 10. Evaluate\n",
    "eval_res = model.evaluate(test_ds, verbose=2)\n",
    "print(\"\\nTest results:\")\n",
    "for name, val in zip(model.metrics_names, eval_res):\n",
    "    print(f\"{name}: {val:.4f}\")\n",
    "\n",
    "# 11. Thresholded predictions and confusion matrix\n",
    "y_prob = model.predict(test_ds).ravel()\n",
    "y_true = test_binary\n",
    "y_pred = (y_prob >= 0.5).astype(np.int32)\n",
    "\n",
    "cm = tf.math.confusion_matrix(y_true, y_pred, num_classes=2).numpy()\n",
    "tn, fp, fn, tp = cm.ravel()\n",
    "print(\"\\nConfusion matrix:\")\n",
    "print(cm)\n",
    "precision = tp / (tp + fp + 1e-9)\n",
    "recall = tp / (tp + fn + 1e-9)\n",
    "print(f\"Precision: {precision:.4f}  Recall: {recall:.4f}\")\n",
    "\n",
    "# 12. ROC curve\n",
    "from sklearn.metrics import roc_curve, auc\n",
    "fpr, tpr, _ = roc_curve(y_true, y_prob)\n",
    "roc_auc = auc(fpr, tpr)\n",
    "\n",
    "plt.figure()\n",
    "plt.plot(fpr, tpr, label=f\"ROC AUC = {roc_auc:.3f}\")\n",
    "plt.plot([0, 1], [0, 1], linestyle=\":\")\n",
    "plt.xlabel(\"False Positive Rate\")\n",
    "plt.ylabel(\"True Positive Rate\")\n",
    "plt.title(\"Footwear gate ROC\")\n",
    "plt.legend(loc=\"lower right\")\n",
    "plt.show()\n",
    "\n",
    "\n",
    "\n",
    "\n"
   ]
  },
  {
   "cell_type": "code",
   "execution_count": 6,
   "id": "b72a869a",
   "metadata": {},
   "outputs": [
    {
     "data": {
      "image/png": "[encoded data removed]",
      "text/plain": [
       "<Figure size 640x480 with 1 Axes>"
      ]
     },
     "metadata": {},
     "output_type": "display_data"
    },
    {
     "data": {
      "image/png": "[encoded data removed]",
      "text/plain": [
       "<Figure size 640x480 with 1 Axes>"
      ]
     },
     "metadata": {},
     "output_type": "display_data"
    },
    {
     "data": {
      "image/png": "[encoded data removed]",
      "text/plain": [
       "<Figure size 640x480 with 1 Axes>"
      ]
     },
     "metadata": {},
     "output_type": "display_data"
    }
   ],
   "source": [
    "# 13. Simple Grad CAM to see what the model looks at\n",
    "def grad_cam(img, model, conv_layer_name=\"last_conv\"):\n",
    "    # img shape: (1, 28, 28, 1) in [0,1]\n",
    "    grad_model = keras.Model(\n",
    "        inputs=model.inputs,\n",
    "        outputs=[model.get_layer(conv_layer_name).output, model.output]\n",
    "    )\n",
    "    with tf.GradientTape() as tape:\n",
    "        conv_out, preds = grad_model(tf.cast(img, tf.float32), training=False)\n",
    "        loss = preds[:, 0]  # positive class score\n",
    "    grads = tape.gradient(loss, conv_out)                     # shape: (1, h, w, c)\n",
    "    weights = tf.reduce_mean(grads, axis=(1, 2), keepdims=True)  # global average pooling over h,w\n",
    "    cam = tf.reduce_sum(weights * conv_out, axis=-1)          # shape: (1, h, w)\n",
    "    heatmap = cam[0]\n",
    "    heatmap = tf.maximum(heatmap, 0)                          # ReLU\n",
    "    heatmap /= (tf.reduce_max(heatmap) + 1e-9)                # normalize to [0,1]\n",
    "    return heatmap.numpy()\n",
    "\n",
    "def show_grad_cam(original_img, heatmap, alpha=0.35):\n",
    "    # original_img shape: (28, 28, 1) in [0,1]\n",
    "    base = np.squeeze(original_img)\n",
    "    # resize heatmap to image size using TF\n",
    "    heatmap_resized = tf.image.resize(\n",
    "        heatmap[np.newaxis, ..., np.newaxis],\n",
    "        (base.shape[0], base.shape[1]),\n",
    "        method=\"bilinear\"\n",
    "    ).numpy().squeeze()\n",
    "\n",
    "    plt.figure()\n",
    "    plt.imshow(base, cmap=\"gray\")\n",
    "    plt.imshow(heatmap_resized, cmap=\"jet\", alpha=alpha)\n",
    "    plt.axis(\"off\")\n",
    "    plt.title(\"Grad CAM overlay\")\n",
    "    plt.show()\n",
    "\n",
    "# pick a few test samples to visualize\n",
    "for idx in [0, 1, 2]:\n",
    "    sample = test_images[idx][np.newaxis, ...]\n",
    "    hm = grad_cam(sample, model, conv_layer_name=\"last_conv\")\n",
    "    show_grad_cam(test_images[idx], hm)"
   ]
  }
 ],
 "metadata": {
  "kernelspec": {
   "display_name": "Python 3",
   "language": "python",
   "name": "python3"
  },
  "language_info": {
   "codemirror_mode": {
    "name": "ipython",
    "version": 3
   },
   "file_extension": ".py",
   "mimetype": "text/x-python",
   "name": "python",
   "nbconvert_exporter": "python",
   "pygments_lexer": "ipython3",
   "version": "3.13.5"
  }
 },
 "nbformat": 4,
 "nbformat_minor": 5
}
